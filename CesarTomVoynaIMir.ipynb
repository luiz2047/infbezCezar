{
 "cells": [
  {
   "cell_type": "code",
   "execution_count": 21,
   "metadata": {},
   "outputs": [],
   "source": [
    "import pandas as pd\n",
    "from collections import Counter\n",
    "from itertools import groupby"
   ]
  },
  {
   "cell_type": "code",
   "execution_count": 22,
   "metadata": {},
   "outputs": [
    {
     "data": {
      "text/plain": [
       "['а',\n",
       " 'б',\n",
       " 'в',\n",
       " 'г',\n",
       " 'д',\n",
       " 'е',\n",
       " 'ё',\n",
       " 'ж',\n",
       " 'з',\n",
       " 'и',\n",
       " 'й',\n",
       " 'к',\n",
       " 'л',\n",
       " 'м',\n",
       " 'н',\n",
       " 'о',\n",
       " 'п',\n",
       " 'р',\n",
       " 'с',\n",
       " 'т',\n",
       " 'у',\n",
       " 'ф',\n",
       " 'х',\n",
       " 'ц',\n",
       " 'ч',\n",
       " 'ш',\n",
       " 'щ',\n",
       " 'ъ',\n",
       " 'ы',\n",
       " 'ь',\n",
       " 'э',\n",
       " 'ю',\n",
       " 'я',\n",
       " ' ']"
      ]
     },
     "execution_count": 22,
     "metadata": {},
     "output_type": "execute_result"
    }
   ],
   "source": [
    "rusAlph = list('абвгдеёжзийклмнопрстуфхцчшщъыьэюя ')\n",
    "rusAlph"
   ]
  },
  {
   "cell_type": "code",
   "execution_count": 23,
   "metadata": {},
   "outputs": [],
   "source": [
    "#Реализация шифр Цезаря с ключевым словом\n",
    "def CesarCipher(word):\n",
    "    keyWord = list(word)\n",
    "    print(keyWord)\n",
    "    keyWord.append(rusAlph)\n",
    "    print(keyWord)\n",
    "    keyWord = [a for b in keyWord for a in b]\n",
    "    newList = pd.Series(keyWord).drop_duplicates().tolist()\n",
    "    print(newList)\n",
    "    return newList\n",
    "#Удаляет все символы не входящие в начальный алфавит\n",
    "def deleteOther(text, arr):\n",
    "    text = text.lower()\n",
    "    for x in text:\n",
    "        if x not in arr:\n",
    "            text = text.replace(x,\"\")\n",
    "    return text\n",
    "#Шифрование текста на основе алфавита полученного из CesarCipher и смещения\n",
    "def encryptCaesar(msg, shift):\n",
    "    ret = \"\"\n",
    "    msg = msg.lower()\n",
    "    for x in msg:\n",
    "        if x in SupaDupaAlphSmall:\n",
    "            ind = SupaDupaAlphSmall.index(x)%len(SupaDupaAlphSmall)\n",
    "            ret += SupaDupaAlphSmall[(ind+shift)%len(SupaDupaAlphSmall)]\n",
    "        else:\n",
    "            ret += x\n",
    "    return ret\n",
    "\n",
    "#Кол-во символов в алфавите\n",
    "def count_letters():\n",
    "    count = 0\n",
    "    for i in range(len(rusAlph)):\n",
    "        count += counter[rusAlph[i]]\n",
    "    return count\n",
    "\n",
    "def frequency(count):\n",
    "    arr_my_frequency = []\n",
    "    for i in range(len(rusAlph)):\n",
    "        frequency = counter[rusAlph[i]] / count * 100\n",
    "        arr_my_frequency.append(frequency)\n",
    "    return arr_my_frequency\n",
    "#дешифрование текста\n",
    "def decrypt_text(text_for_decrypt, arr_decrypt_letters):\n",
    "    arr_encrypt_text = []\n",
    "    arr_encrypt_letters = [' ','о', 'е', 'а', 'и', 'н', 'т', 'с',\n",
    "                           'р', 'в', 'л','к', 'м', 'д', 'п', 'у',\n",
    "                           'я', 'з', 'ы', 'б', 'ь', 'ъ', 'г', 'ч',\n",
    "                           'й', 'х', 'ж','ш', 'ю', 'ц', 'щ',\n",
    "                           'э', 'ф']\n",
    "    dictionary = dict(zip(arr_decrypt_letters, arr_encrypt_letters))\n",
    "    for i in text_for_decrypt:\n",
    "        arr_encrypt_text.append(dictionary.get(i))\n",
    "    arr_encrypt_text =[i for i in arr_encrypt_text if i]\n",
    "    text_for_decrypt = ''.join(arr_encrypt_text)\n",
    "    print(text_for_decrypt)\n",
    "\n",
    "def number_of_letters(text_for_decrypt):\n",
    "    counter = Counter(text_for_decrypt)\n",
    "    arr_decrypt_letters = []\n",
    "    for i in range(len(counter)):\n",
    "        arr_decrypt_letters.append(counter.most_common(len(counter))[i][0])\n",
    "\n",
    "    return arr_decrypt_letters"
   ]
  },
  {
   "cell_type": "code",
   "execution_count": 24,
   "metadata": {
    "scrolled": true
   },
   "outputs": [
    {
     "name": "stdout",
     "output_type": "stream",
     "text": [
      "['п', 'р', 'и', 'в', 'е', 'т']\n",
      "['п', 'р', 'и', 'в', 'е', 'т', ['а', 'б', 'в', 'г', 'д', 'е', 'ё', 'ж', 'з', 'и', 'й', 'к', 'л', 'м', 'н', 'о', 'п', 'р', 'с', 'т', 'у', 'ф', 'х', 'ц', 'ч', 'ш', 'щ', 'ъ', 'ы', 'ь', 'э', 'ю', 'я', ' ']]\n",
      "['п', 'р', 'и', 'в', 'е', 'т', 'а', 'б', 'г', 'д', 'ё', 'ж', 'з', 'й', 'к', 'л', 'м', 'н', 'о', 'с', 'у', 'ф', 'х', 'ц', 'ч', 'ш', 'щ', 'ъ', 'ы', 'ь', 'э', 'ю', 'я', ' ']\n"
     ]
    },
    {
     "data": {
      "text/plain": [
       "['п',\n",
       " 'р',\n",
       " 'и',\n",
       " 'в',\n",
       " 'е',\n",
       " 'т',\n",
       " 'а',\n",
       " 'б',\n",
       " 'г',\n",
       " 'д',\n",
       " 'ё',\n",
       " 'ж',\n",
       " 'з',\n",
       " 'й',\n",
       " 'к',\n",
       " 'л',\n",
       " 'м',\n",
       " 'н',\n",
       " 'о',\n",
       " 'с',\n",
       " 'у',\n",
       " 'ф',\n",
       " 'х',\n",
       " 'ц',\n",
       " 'ч',\n",
       " 'ш',\n",
       " 'щ',\n",
       " 'ъ',\n",
       " 'ы',\n",
       " 'ь',\n",
       " 'э',\n",
       " 'ю',\n",
       " 'я',\n",
       " ' ']"
      ]
     },
     "execution_count": 24,
     "metadata": {},
     "output_type": "execute_result"
    }
   ],
   "source": [
    "SupaDupaAlphSmall = CesarCipher(\"привет\")\n",
    "SupaDupaAlphSmall"
   ]
  },
  {
   "cell_type": "code",
   "execution_count": 25,
   "metadata": {},
   "outputs": [],
   "source": [
    "with open(\"UltraBiggaText.txt\", encoding='Windows-1251') as f:\n",
    "    s = f.read()\n",
    "    s = s.replace(\"\\n\", \"\")\n",
    "    s = s.replace(\"\\xa0\",\"\")\n",
    "    s = s.replace(\"ё\",\"е\")"
   ]
  },
  {
   "cell_type": "code",
   "execution_count": null,
   "metadata": {
    "scrolled": true
   },
   "outputs": [],
   "source": [
    "s"
   ]
  },
  {
   "cell_type": "code",
   "execution_count": null,
   "metadata": {
    "scrolled": false
   },
   "outputs": [],
   "source": [
    "s = deleteOther(s, SupaDupaAlphSmall)\n",
    "s"
   ]
  },
  {
   "cell_type": "code",
   "execution_count": null,
   "metadata": {},
   "outputs": [],
   "source": [
    "text = encryptCaesar(s, 5)\n",
    "text"
   ]
  },
  {
   "cell_type": "code",
   "execution_count": 29,
   "metadata": {},
   "outputs": [],
   "source": [
    "counter = Counter(text)"
   ]
  },
  {
   "cell_type": "code",
   "execution_count": 30,
   "metadata": {},
   "outputs": [],
   "source": [
    "arr_decrypt_letters = number_of_letters(text)\n",
    "Kek = dict(zip(arr_decrypt_letters, rusAlph))\n",
    "\n",
    "new_llst = [el for el, _ in groupby(KekW)]\n",
    "\n",
    "new_llst = list(Kek.keys())"
   ]
  },
  {
   "cell_type": "code",
   "execution_count": 31,
   "metadata": {},
   "outputs": [],
   "source": [
    "arr_decrypt_letters = new_llst"
   ]
  },
  {
   "cell_type": "code",
   "execution_count": 32,
   "metadata": {},
   "outputs": [
    {
     "data": {
      "text/plain": [
       "1070449"
      ]
     },
     "execution_count": 32,
     "metadata": {},
     "output_type": "execute_result"
    }
   ],
   "source": [
    "count_letters()"
   ]
  },
  {
   "cell_type": "code",
   "execution_count": 33,
   "metadata": {},
   "outputs": [
    {
     "data": {
      "text/plain": [
       "[3.803637539014003,\n",
       " 5.581396217848772,\n",
       " 1.9098527814029442,\n",
       " 3.863145278289765,\n",
       " 6.919806548467045,\n",
       " 15.882027074620089,\n",
       " 4.820874231280519,\n",
       " 6.858056759359857,\n",
       " 1.48974869423952,\n",
       " 0.5474338338398186,\n",
       " 1.7043315468555718,\n",
       " 2.5414569026642093,\n",
       " 0.0,\n",
       " 0.8710363595089538,\n",
       " 1.447897097386237,\n",
       " 0.9811770574777499,\n",
       " 1.6497750009575423,\n",
       " 0.2666170924537274,\n",
       " 2.9335353669348097,\n",
       " 2.1509665570242023,\n",
       " 4.2285994008121826,\n",
       " 2.536038615571597,\n",
       " 5.548232564092264,\n",
       " 9.597654815876329,\n",
       " 4.446919003147277,\n",
       " 2.3613455662063303,\n",
       " 0.17478646810824242,\n",
       " 0.7195111584017547,\n",
       " 0.31753030737569005,\n",
       " 1.1988427286120125,\n",
       " 0.7523945559293344,\n",
       " 0.24045984442042545,\n",
       " 0.03624647227471837,\n",
       " 1.618666559546508]"
      ]
     },
     "execution_count": 33,
     "metadata": {},
     "output_type": "execute_result"
    }
   ],
   "source": [
    "frequency(count_letters())"
   ]
  },
  {
   "cell_type": "code",
   "execution_count": null,
   "metadata": {},
   "outputs": [],
   "source": [
    "decrypt_text(text, arr_decrypt_letters)"
   ]
  },
  {
   "cell_type": "code",
   "execution_count": null,
   "metadata": {},
   "outputs": [],
   "source": []
  }
 ],
 "metadata": {
  "kernelspec": {
   "display_name": "Python 3",
   "language": "python",
   "name": "python3"
  },
  "language_info": {
   "codemirror_mode": {
    "name": "ipython",
    "version": 3
   },
   "file_extension": ".py",
   "mimetype": "text/x-python",
   "name": "python",
   "nbconvert_exporter": "python",
   "pygments_lexer": "ipython3",
   "version": "3.7.11"
  }
 },
 "nbformat": 4,
 "nbformat_minor": 4
}
